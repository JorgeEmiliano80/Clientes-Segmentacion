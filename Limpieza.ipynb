{
 "cells": [
  {
   "attachments": {},
   "cell_type": "markdown",
   "metadata": {},
   "source": [
    "## Pre-procesamiento y limpieza\n"
   ]
  },
  {
   "cell_type": "code",
   "execution_count": 1,
   "metadata": {},
   "outputs": [],
   "source": [
    "import pandas as pd\n",
    "import numpy as np\n",
    "import matplotlib.pyplot as plt\n",
    "import seaborn as sns\n"
   ]
  },
  {
   "cell_type": "code",
   "execution_count": 16,
   "metadata": {},
   "outputs": [
    {
     "name": "stdout",
     "output_type": "stream",
     "text": [
      "  N° de factura     Fecha de factura  ID Cliente            País  Cantidad  \\\n",
      "0        548370   3/30/2021 16:14:00     15528.0  United Kingdom       123   \n",
      "1        575767  11/11/2021 11:11:00     17348.0  United Kingdom       163   \n",
      "2       C570727  10/12/2021 11:32:00     12471.0         Germany        -1   \n",
      "3        549106    4/6/2021 12:08:00     17045.0  United Kingdom         1   \n",
      "4        573112  10/27/2021 15:33:00     16416.0  United Kingdom       357   \n",
      "\n",
      "    Monto  \n",
      "0  229,33  \n",
      "1  209,73  \n",
      "2   -1,45  \n",
      "3   39,95  \n",
      "4  344,83  \n"
     ]
    }
   ],
   "source": [
    "# importamos csv\n",
    "dataset = pd.read_csv(r'/Users/jorgeemiliano/Desktop/Segementacion/ventas-por-factura.csv')\n",
    "print(dataset.head())"
   ]
  },
  {
   "attachments": {},
   "cell_type": "markdown",
   "metadata": {},
   "source": [
    "Después de revisar con mayor detalle las variables que tiene el dataset, es posible que este contenga ciertos registros vacíos o nulos y también registros duplicados, que podrían ensuciar nuestro análisis. Pasamos a eliminar estos mismos."
   ]
  },
  {
   "cell_type": "code",
   "execution_count": 17,
   "metadata": {},
   "outputs": [
    {
     "name": "stdout",
     "output_type": "stream",
     "text": [
      "Registros con valores nulos:  N° de factura          0\n",
      "Fecha de factura       0\n",
      "ID Cliente          3722\n",
      "País                   0\n",
      "Cantidad               0\n",
      "Monto                  0\n",
      "dtype: int64\n"
     ]
    }
   ],
   "source": [
    "# Eliminamos los duplicados\n",
    "dataset.drop_duplicates(inplace=True)\n",
    "\n",
    "# Identificamos registros con valores nulos\n",
    "null_counts = dataset.isnull().sum()\n",
    "print('Registros con valores nulos: ', null_counts)"
   ]
  },
  {
   "attachments": {},
   "cell_type": "markdown",
   "metadata": {},
   "source": [
    "Cómo podemos observar, identificamos que la columna 'ID Cliente' tiene 3722 valores nulos, lo que podría ensuciar nuestro análisis."
   ]
  },
  {
   "cell_type": "code",
   "execution_count": 18,
   "metadata": {},
   "outputs": [
    {
     "name": "stdout",
     "output_type": "stream",
     "text": [
      "      N° de factura     Fecha de factura  ID Cliente            País  \\\n",
      "0            548370   3/30/2021 16:14:00     15528.0  United Kingdom   \n",
      "1            575767  11/11/2021 11:11:00     17348.0  United Kingdom   \n",
      "2           C570727  10/12/2021 11:32:00     12471.0         Germany   \n",
      "3            549106    4/6/2021 12:08:00     17045.0  United Kingdom   \n",
      "4            573112  10/27/2021 15:33:00     16416.0  United Kingdom   \n",
      "...             ...                  ...         ...             ...   \n",
      "25947       C553519   5/17/2021 14:16:00     18218.0  United Kingdom   \n",
      "25948       C556518   6/13/2021 10:53:00     16794.0  United Kingdom   \n",
      "25949        553060   5/13/2021 10:44:00     15826.0  United Kingdom   \n",
      "25950        577049  11/17/2021 13:58:00     17397.0  United Kingdom   \n",
      "25951        550122   4/14/2021 12:39:00     12931.0  United Kingdom   \n",
      "\n",
      "       Cantidad    Monto  \n",
      "0           123   229,33  \n",
      "1           163   209,73  \n",
      "2            -1    -1,45  \n",
      "3             1    39,95  \n",
      "4           357   344,83  \n",
      "...         ...      ...  \n",
      "25947        -2    -9,90  \n",
      "25948        -2   -12,70  \n",
      "25949       488   720,00  \n",
      "25950       104   298,78  \n",
      "25951      1176  1488,00  \n",
      "\n",
      "[22221 rows x 6 columns]\n"
     ]
    }
   ],
   "source": [
    "# Eliminamos los registros con valores nulos\n",
    "dataset.dropna(inplace=True)\n",
    "print(dataset)"
   ]
  },
  {
   "attachments": {},
   "cell_type": "markdown",
   "metadata": {},
   "source": [
    "## Detección y eliminación de cantidades Negativas\n",
    "\n",
    "Como podemos observar las columnas 'Monto' y 'Cantidad' poseen valores negativos. Estos valores negativos no necesariamente están incorrectos. De hecho, aquellas facturas que comienzan con la letra 'C' corresponden a devoluciones y, por lo tanto, podríamos asumir que estos valores negativos son por esa razón. Como solo queremos analizar las ventas del negocio (y no las devoluciones), vamos a eliminar estos valores de nuestro dataset."
   ]
  },
  {
   "cell_type": "code",
   "execution_count": 20,
   "metadata": {},
   "outputs": [
    {
     "name": "stdout",
     "output_type": "stream",
     "text": [
      "Registros con valores negativos después de eliminar devoluciones: \n",
      "Empty DataFrame\n",
      "Columns: [N° de factura, Fecha de factura, ID Cliente, País, Cantidad, Monto]\n",
      "Index: []\n"
     ]
    }
   ],
   "source": [
    "# Filtramos las filas que no corresponden a devoluciones\n",
    "dataset = dataset[~dataset['N° de factura'].str.startswith('C')]\n",
    "\n",
    "dataset['Monto'] = dataset['Monto'].str.replace(',', '.')\n",
    "# Convertimos las columnas 'Monto' y 'Cantidad' a tipo numérico\n",
    "dataset['Monto'] = dataset['Monto'].astype(float)\n",
    "dataset['Cantidad'] = dataset['Cantidad'].astype(int)\n",
    "\n",
    "# Verificamos que los valores negativos hayan sido eliminados\n",
    "neg_values = dataset[(dataset['Monto'] < 0) | (dataset['Cantidad']< 0)]\n",
    "print('Registros con valores negativos después de eliminar devoluciones: ')\n",
    "print(neg_values)"
   ]
  },
  {
   "cell_type": "code",
   "execution_count": 21,
   "metadata": {},
   "outputs": [
    {
     "name": "stdout",
     "output_type": "stream",
     "text": [
      "  N° de factura     Fecha de factura  ID Cliente            País  Cantidad  \\\n",
      "0        548370   3/30/2021 16:14:00     15528.0  United Kingdom       123   \n",
      "1        575767  11/11/2021 11:11:00     17348.0  United Kingdom       163   \n",
      "3        549106    4/6/2021 12:08:00     17045.0  United Kingdom         1   \n",
      "4        573112  10/27/2021 15:33:00     16416.0  United Kingdom       357   \n",
      "5        576630   11/16/2021 8:38:00     13816.0         Germany        91   \n",
      "\n",
      "    Monto  \n",
      "0  229.33  \n",
      "1  209.73  \n",
      "3   39.95  \n",
      "4  344.83  \n",
      "5  199.98  \n"
     ]
    }
   ],
   "source": [
    "print(dataset.head())"
   ]
  },
  {
   "attachments": {},
   "cell_type": "markdown",
   "metadata": {},
   "source": [
    "Vemos ahora que nuestro dataset ya no tiene los valores negativos en las columnas 'Cantidad' y 'Monto'"
   ]
  },
  {
   "attachments": {},
   "cell_type": "markdown",
   "metadata": {},
   "source": [
    "Ahora pasamos a guardar estos datos limpios en un dataset nuevo para empezar nuestro análisis."
   ]
  },
  {
   "cell_type": "code",
   "execution_count": null,
   "metadata": {},
   "outputs": [],
   "source": [
    "dataset_modificado = 'dataset_modificado.csv'\n",
    "dataset.to_csv(dataset_modificado, index=False)"
   ]
  }
 ],
 "metadata": {
  "kernelspec": {
   "display_name": "Python 3",
   "language": "python",
   "name": "python3"
  },
  "language_info": {
   "codemirror_mode": {
    "name": "ipython",
    "version": 3
   },
   "file_extension": ".py",
   "mimetype": "text/x-python",
   "name": "python",
   "nbconvert_exporter": "python",
   "pygments_lexer": "ipython3",
   "version": "3.11.1"
  },
  "orig_nbformat": 4
 },
 "nbformat": 4,
 "nbformat_minor": 2
}
